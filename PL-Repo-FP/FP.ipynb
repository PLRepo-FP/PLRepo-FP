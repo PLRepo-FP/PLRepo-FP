{
 "cells": [
  {
   "cell_type": "code",
   "execution_count": 1,
   "metadata": {},
   "outputs": [
    {
     "ename": "ModuleNotFoundError",
     "evalue": "No module named 'bs4'",
     "output_type": "error",
     "traceback": [
      "\u001b[1;31m---------------------------------------------------------------------------\u001b[0m",
      "\u001b[1;31mModuleNotFoundError\u001b[0m                       Traceback (most recent call last)",
      "\u001b[1;32md:\\李騰騏資料\\李騰騏作業\\師大\\科技系\\程式語言\\PLRepo-FP\\PL-Repo-FP\\FP.ipynb 儲存格 1\u001b[0m line \u001b[0;36m3\n\u001b[0;32m      <a href='vscode-notebook-cell:/d%3A/%E6%9D%8E%E9%A8%B0%E9%A8%8F%E8%B3%87%E6%96%99/%E6%9D%8E%E9%A8%B0%E9%A8%8F%E4%BD%9C%E6%A5%AD/%E5%B8%AB%E5%A4%A7/%E7%A7%91%E6%8A%80%E7%B3%BB/%E7%A8%8B%E5%BC%8F%E8%AA%9E%E8%A8%80/PLRepo-FP/PL-Repo-FP/FP.ipynb#W0sZmlsZQ%3D%3D?line=0'>1</a>\u001b[0m \u001b[39m#request 原始碼\u001b[39;00m\n\u001b[0;32m      <a href='vscode-notebook-cell:/d%3A/%E6%9D%8E%E9%A8%B0%E9%A8%8F%E8%B3%87%E6%96%99/%E6%9D%8E%E9%A8%B0%E9%A8%8F%E4%BD%9C%E6%A5%AD/%E5%B8%AB%E5%A4%A7/%E7%A7%91%E6%8A%80%E7%B3%BB/%E7%A8%8B%E5%BC%8F%E8%AA%9E%E8%A8%80/PLRepo-FP/PL-Repo-FP/FP.ipynb#W0sZmlsZQ%3D%3D?line=1'>2</a>\u001b[0m \u001b[39mimport\u001b[39;00m \u001b[39mcsv\u001b[39;00m\n\u001b[1;32m----> <a href='vscode-notebook-cell:/d%3A/%E6%9D%8E%E9%A8%B0%E9%A8%8F%E8%B3%87%E6%96%99/%E6%9D%8E%E9%A8%B0%E9%A8%8F%E4%BD%9C%E6%A5%AD/%E5%B8%AB%E5%A4%A7/%E7%A7%91%E6%8A%80%E7%B3%BB/%E7%A8%8B%E5%BC%8F%E8%AA%9E%E8%A8%80/PLRepo-FP/PL-Repo-FP/FP.ipynb#W0sZmlsZQ%3D%3D?line=2'>3</a>\u001b[0m \u001b[39mfrom\u001b[39;00m \u001b[39mbs4\u001b[39;00m \u001b[39mimport\u001b[39;00m BeautifulSoup \n\u001b[0;32m      <a href='vscode-notebook-cell:/d%3A/%E6%9D%8E%E9%A8%B0%E9%A8%8F%E8%B3%87%E6%96%99/%E6%9D%8E%E9%A8%B0%E9%A8%8F%E4%BD%9C%E6%A5%AD/%E5%B8%AB%E5%A4%A7/%E7%A7%91%E6%8A%80%E7%B3%BB/%E7%A8%8B%E5%BC%8F%E8%AA%9E%E8%A8%80/PLRepo-FP/PL-Repo-FP/FP.ipynb#W0sZmlsZQ%3D%3D?line=3'>4</a>\u001b[0m \u001b[39mimport\u001b[39;00m \u001b[39mrequests\u001b[39;00m\n\u001b[0;32m      <a href='vscode-notebook-cell:/d%3A/%E6%9D%8E%E9%A8%B0%E9%A8%8F%E8%B3%87%E6%96%99/%E6%9D%8E%E9%A8%B0%E9%A8%8F%E4%BD%9C%E6%A5%AD/%E5%B8%AB%E5%A4%A7/%E7%A7%91%E6%8A%80%E7%B3%BB/%E7%A8%8B%E5%BC%8F%E8%AA%9E%E8%A8%80/PLRepo-FP/PL-Repo-FP/FP.ipynb#W0sZmlsZQ%3D%3D?line=4'>5</a>\u001b[0m \u001b[39mimport\u001b[39;00m \u001b[39mre\u001b[39;00m\n",
      "\u001b[1;31mModuleNotFoundError\u001b[0m: No module named 'bs4'"
     ]
    }
   ],
   "source": [
    "#request 原始碼\n",
    "import csv\n",
    "from bs4 import BeautifulSoup \n",
    "import requests\n",
    "import re\n",
    "\n",
    "url=\"https://silviayellow.pixnet.net/blog/post/354111760\"\n",
    "headers={\n",
    "    \"user-agent\":\"Mozilla/5.0 (Windows NT 10.0; Win64; x64) AppleWebKit/537.36 (KHTML, like Gecko) Chrome/118.0.0.0 Safari/537.36\"\n",
    "}\n",
    "\n",
    "res = requests.get(url , headers=headers)\n",
    "res.encoding = 'utf-8'\n",
    "soup = BeautifulSoup(res.text, \"html.parser\")\n",
    "# 抓取內容\n",
    "contents = soup.find_all(\"td\")\n",
    "text = \"\\n\".join([content.get_text() for content in contents])\n",
    "cleaned_text = re.sub(r'[A-Za-z!@#$%^&*()_+{}[\\]:;\"\\'<>,.?~\\\\/\\-|=]', '', text)\n",
    "cleaned_text=cleaned_text.replace('\\n', '?')\n",
    "cleaned_text=cleaned_text.replace('?花名?項目?花語?', '')\n",
    "cleaned_text=cleaned_text.replace('?397?黃鬱金香：名聲?花語?', '')\n",
    "cleaned_text = re.sub(r'花名.*$', '', cleaned_text)\n",
    "data_list = cleaned_text.split('?')\n",
    "\n",
    "# 移除可能的空字串\n",
    "data_list = [item.strip() for item in data_list if item.strip()]\n",
    "#新的二維陣列\n",
    "new_list = [data_list[i:i+4] for i in range(0, len(data_list), 4)]\n",
    "\n",
    "#存成csv\n",
    "csv_file_path = 'flowers_data.csv'\n",
    "\n",
    "# 使用 csv 模塊寫入 CSV 文件\n",
    "with open(csv_file_path, 'w', newline='', encoding='utf-8-sig') as csvfile:\n",
    "    csv_writer = csv.writer(csvfile)    \n",
    "    # 寫入數據\n",
    "    csv_writer.writerows(new_list)\n",
    "\n",
    "print(f'CSV 文件已保存到 {csv_file_path}')"
   ]
  }
 ],
 "metadata": {
  "kernelspec": {
   "display_name": "Python 3",
   "language": "python",
   "name": "python3"
  },
  "language_info": {
   "codemirror_mode": {
    "name": "ipython",
    "version": 3
   },
   "file_extension": ".py",
   "mimetype": "text/x-python",
   "name": "python",
   "nbconvert_exporter": "python",
   "pygments_lexer": "ipython3",
   "version": "3.11.6"
  }
 },
 "nbformat": 4,
 "nbformat_minor": 2
}
