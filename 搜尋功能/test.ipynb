{
 "cells": [
  {
   "cell_type": "code",
   "execution_count": 18,
   "metadata": {},
   "outputs": [],
   "source": [
    "import csv\n",
    "import pandas as pd\n",
    "# 打開CSV文件\n",
    "data = pd.read_csv('花語.csv')\n",
    "with open('花語.csv', 'r', encoding='utf-8') as file:\n",
    "    # 使用 DictReader，並指定 delimiter\n",
    "    csv_reader = csv.DictReader(file, delimiter=',')"
   ]
  },
  {
   "cell_type": "code",
   "execution_count": 33,
   "metadata": {},
   "outputs": [
    {
     "name": "stdout",
     "output_type": "stream",
     "text": [
      "['花名', '花語', '關於花', '品種', '產地', '上市日期', '開花季節', '花期', '生日花', '花語索引']\n"
     ]
    }
   ],
   "source": [
    "import csv\n",
    "\n",
    "# 打開CSV文件\n",
    "with open('花語.csv', 'r', encoding='utf-8-sig') as file:\n",
    "    # 使用 DictReader，並指定 delimiter\n",
    "    csv_reader = csv.DictReader(file, delimiter=',')\n",
    "    \n",
    "    # 獲取標題行的欄位\n",
    "    headers = csv_reader.fieldnames\n",
    "    \n",
    "    # 列印標題行\n",
    "    print(headers)\n"
   ]
  },
  {
   "cell_type": "code",
   "execution_count": 42,
   "metadata": {},
   "outputs": [
    {
     "name": "stdout",
     "output_type": "stream",
     "text": [
      "花名: 百蓮子, 花語: 愛情的降臨 情書 知性打扮,花語索引: 愛情，家庭\n",
      "花名: 杜鵑花, 花語: 節制 滿足 被你所愛很幸福,花語索引: 愛情，家庭\n",
      "花名: 大星芹, 花語: 愛的渴望 向星星許願,花語索引: 愛情，家庭\n",
      "花名: 紅白頭翁, 花語: 我愛你,花語索引: 愛情，家庭\n",
      "花名: 斗篷草, 花語: 閃耀 奉獻的愛 初戀,花語索引: 愛情，家庭\n",
      "花名: 蘆莖樹蘭, 花語: 渴望孤獨 可愛的戀情,花語索引: 愛情，家庭\n",
      "花名: 桔梗, 花語: 不變的愛,花語索引: 愛情，家庭\n",
      "花名: 紅色菊花, 花語: 我愛你,花語索引: 愛情，家庭\n",
      "花名: 球吉利花, 花語: 善變的愛情,花語索引: 愛情，家庭\n",
      "花名: 白玉草, 花語: 虛假的愛,花語索引: 愛情，家庭\n",
      "花名: 紅色波斯菊, 花語: 少女的愛情,花語索引: 愛情，家庭\n",
      "花名: 粉紅波斯菊, 花語: 少女的純潔,花語索引: 愛情，家庭\n",
      "花名: 粉紅蝴蝶蘭, 花語: 我愛你,花語索引: 愛情，家庭\n",
      "花名: 紫羅蘭, 花語: 永恆的美 愛的羈絆,花語索引: 愛情，家庭\n",
      "花名: 紫色紫羅蘭, 花語: 大方的愛情,花語索引: 愛情，家庭\n",
      "花名: 天堂鳥, 花語: 做作的戀情 閃耀的未來,花語索引: 愛情，家庭\n",
      "花名: 絳紅三葉草, 花語: 閃閃發光的愛 點亮心火 簡樸可愛,花語索引: 愛情，家庭\n",
      "花名: 千日紅, 花語: 不變的愛 不朽,花語索引: 愛情，家庭\n",
      "花名: 紅色鬱金香, 花語: 愛的告白,花語索引: 愛情，家庭\n",
      "花名: 白色鬱金香, 花語: 失去的愛,花語索引: 愛情，家庭\n",
      "花名: 粉紅鬱金香, 花語: 愛的萌芽,花語索引: 愛情，家庭\n",
      "花名: 橘色鬱金香, 花語: 永遠的愛,花語索引: 愛情，家庭\n",
      "花名: 石斛蘭, 花語: 相配的兩人,花語索引: 愛情，家庭\n",
      "花名: 南天竹, 花語: 帶來福氣 良好家庭,花語索引: \n",
      "花名: 玫瑰, 花語: 愛 美,花語索引: 愛情，家庭\n",
      "花名: 白色玫瑰, 花語: 熱情,花語索引: 愛情，家庭\n",
      "花名: 粉紅玫瑰, 花語: 純潔 深深的敬意,花語索引: 愛情，家庭\n",
      "花名: 黃色玫瑰, 花語: 優雅 銘記在心,花語索引: 愛情，家庭\n",
      "花名: 橘色玫瑰, 花語: 羈絆,花語索引: 愛情，家庭\n",
      "花名: 綠色玫瑰, 花語: 平穩,花語索引: 愛情，家庭\n",
      "花名: 向日葵, 花語: 我只看著你 憧憬,花語索引: 愛情，家庭\n",
      "花名: 大輪向日葵, 花語: 虛假的愛,花語索引: 愛情，家庭\n",
      "花名: 紫色風信子, 花語: 超越悲傷的愛,花語索引: 愛情，家庭\n",
      "花名: 藍色風信子, 花語: 不變的愛,花語索引: 愛情，家庭\n",
      "花名: 法蘭絨花, 花語: 高潔 誠實 永遠愛我,花語索引: 愛情，家庭\n",
      "花名: 油點草, 花語: 永遠屬於你 持續,花語索引: 愛情，家庭\n",
      "花名: 瑪格麗特, 花語: 戀愛預言 暗戀,花語索引: 愛情，家庭\n",
      "花名: 萬壽菊, 花語: 可愛的愛情 勇者 健康,花語索引: 愛情，家庭\n",
      "花名: 葡萄風信子, 花語: 心靈相通 寬大的愛,花語索引: 愛情，家庭\n",
      "花名: 日本紫珠, 花語: 聰明 人見人愛,花語索引: 愛情，家庭\n",
      "花名: 紫丁香, 花語: 回憶 初戀 戀情初萌,花語索引: 愛情，家庭\n",
      "花名: 龍膽, 花語: 愛著悲傷的你 誠實,花語索引: 愛情，家庭\n"
     ]
    }
   ],
   "source": [
    "import csv\n",
    "\n",
    "# 打開CSV文件，使用 utf-8-sig 作為文件編碼\n",
    "with open('花語.csv', 'r', encoding='utf-8-sig') as file:\n",
    "    # 使用 DictReader，並指定 delimiter\n",
    "    csv_reader = csv.DictReader(file, delimiter=',')\n",
    "    \n",
    "\n",
    "    # 獲取用户输入的搜尋文本\n",
    "    search_text = input(\"請輸入搜尋文本: \")\n",
    "\n",
    "    # 遍歷 CSV 文件的每一行\n",
    "    for row in csv_reader:\n",
    "        # 去除每一行的欄位值中的 BOM\n",
    "        row = {key.lstrip('\\ufeff'): value for key, value in row.items()}\n",
    "\n",
    "        # 檢查每個欄位值是否包含搜尋文本\n",
    "        if any(search_text.lower() in value.lower() for value in row.values()):\n",
    "            print(f\"花名: {row['花名']}, 花語: {row['花語']},花語索引: {row['花語索引']}\")\n"
   ]
  }
 ],
 "metadata": {
  "kernelspec": {
   "display_name": "Python 3",
   "language": "python",
   "name": "python3"
  },
  "language_info": {
   "codemirror_mode": {
    "name": "ipython",
    "version": 3
   },
   "file_extension": ".py",
   "mimetype": "text/x-python",
   "name": "python",
   "nbconvert_exporter": "python",
   "pygments_lexer": "ipython3",
   "version": "3.11.5"
  }
 },
 "nbformat": 4,
 "nbformat_minor": 2
}
